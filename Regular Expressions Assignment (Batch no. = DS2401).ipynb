{
 "cells": [
  {
   "cell_type": "markdown",
   "id": "b6e24a4b",
   "metadata": {},
   "source": [
    "# Regular Expressions Assignment (Batch no. = DS2401)"
   ]
  },
  {
   "cell_type": "markdown",
   "id": "57839528",
   "metadata": {},
   "source": [
    "Question 1- Write a Python program to replace all occurrences of a space, comma, or dot with a colon.\n",
    "Sample Text- 'Python Exercises, PHP exercises.'\n",
    "Expected Output: Python:Exercises::PHP:exercises:"
   ]
  },
  {
   "cell_type": "code",
   "execution_count": 5,
   "id": "329efc17",
   "metadata": {},
   "outputs": [],
   "source": [
    " def replace_characters(input_text):\n",
    "     characters_to_replace =[' ', ',', '.']\n",
    "    \n",
    "     for char in characters_to_replace:\n",
    "            input_text =input_text.replace(char, ':')\n",
    "            return input_text\n",
    "        "
   ]
  },
  {
   "cell_type": "code",
   "execution_count": 12,
   "id": "0d9d4da5",
   "metadata": {},
   "outputs": [
    {
     "name": "stdout",
     "output_type": "stream",
     "text": [
      "Python:Exercises,:PHP:exercises.\n"
     ]
    }
   ],
   "source": [
    "#simple text\n",
    "sample_text = 'Python Exercises, PHP exercises.'\n",
    "result = replace_characters(sample_text)\n",
    "print(result)\n"
   ]
  },
  {
   "cell_type": "code",
   "execution_count": null,
   "id": "d7aad061",
   "metadata": {},
   "outputs": [],
   "source": []
  },
  {
   "cell_type": "markdown",
   "id": "3fe409b0",
   "metadata": {},
   "source": [
    "Question 2-  Create a dataframe using the dictionary below and remove everything (commas (,), !, XXXX, ;, etc.) from the columns except words.\n",
    "Dictionary- {'SUMMARY' : ['hello, world!', 'XXXXX test', '123four, five:; six...']}\n",
    "Expected output-\n",
    "0      hello world\n",
    "1             test\n",
    "2    four five six\n"
   ]
  },
  {
   "cell_type": "code",
   "execution_count": 31,
   "id": "66c895eb",
   "metadata": {},
   "outputs": [
    {
     "name": "stdout",
     "output_type": "stream",
     "text": [
      "         SUMMARY\n",
      "0    hello world\n",
      "1           test\n",
      "2  four five six\n"
     ]
    }
   ],
   "source": [
    "import pandas as pd\n",
    "import re\n",
    "data = {'SUMMARY':['hello, world!', ' test', '123four, five:; six...']}\n",
    "\n",
    "df=pd.DataFrame(data)\n",
    "df['SUMMARY'] = df['SUMMARY'].apply(lambda x: re.sub(r'[^a-zA-Z\\s]', '', x))\n",
    "print(df)"
   ]
  },
  {
   "cell_type": "code",
   "execution_count": null,
   "id": "6721be6b",
   "metadata": {},
   "outputs": [],
   "source": []
  },
  {
   "cell_type": "markdown",
   "id": "10f99cf3",
   "metadata": {},
   "source": [
    "Question 3- Create a function in python to find all words that are at least 4 characters long in a string. The use of the re.compile() method is mandatory.\n"
   ]
  },
  {
   "cell_type": "code",
   "execution_count": 110,
   "id": "d1a77e47",
   "metadata": {},
   "outputs": [],
   "source": [
    "import re\n",
    "\n",
    "def find_long_words(input_string):\n",
    "    \n",
    "    pattern = re.compile(r'\\b\\w{4,}\\b')\n",
    "    \n",
    "    matches= pattern.finditer(input_string)\n",
    "    \n",
    "    long_words = [match.group() for match in matches]\n",
    "    return long_words"
   ]
  },
  {
   "cell_type": "code",
   "execution_count": 111,
   "id": "bcdd06ea",
   "metadata": {},
   "outputs": [
    {
     "name": "stdout",
     "output_type": "stream",
     "text": [
      "['self', 'Mohammad', 'Kashif', 'Alhamdullilah', 'everything']\n"
     ]
    }
   ],
   "source": [
    "input_text=\"My self Mohammad Kashif Alhamdullilah for everything\"\n",
    "result=find_long_words(input_text)\n",
    "print(result)"
   ]
  },
  {
   "cell_type": "code",
   "execution_count": null,
   "id": "ecc411b1",
   "metadata": {},
   "outputs": [],
   "source": []
  },
  {
   "cell_type": "markdown",
   "id": "0fb316d1",
   "metadata": {},
   "source": [
    "Question 4- Create a function in python to find all three, four, and five character words in a string. The use of the re.compile() method is mandatory.\n"
   ]
  },
  {
   "cell_type": "code",
   "execution_count": 112,
   "id": "bbd56f5c",
   "metadata": {},
   "outputs": [],
   "source": [
    "import re\n",
    "\n",
    "def find_words_by_length(input_string):\n",
    "    \n",
    "    pattern = re.compile(r'\\b\\w{3,5}\\b')\n",
    "    \n",
    "    words = pattern.findall(input_string)\n",
    "    return words"
   ]
  },
  {
   "cell_type": "code",
   "execution_count": 113,
   "id": "a664621a",
   "metadata": {},
   "outputs": [
    {
     "name": "stdout",
     "output_type": "stream",
     "text": [
      "['self', 'for']\n"
     ]
    }
   ],
   "source": [
    "input_text =\"My self Mohammad Kashif Alhamdullilah for everything\"\n",
    "result= find_words_by_length(input_text)\n",
    "print(result)"
   ]
  },
  {
   "cell_type": "code",
   "execution_count": null,
   "id": "3cf3c819",
   "metadata": {},
   "outputs": [],
   "source": []
  },
  {
   "cell_type": "markdown",
   "id": "a89b28e1",
   "metadata": {},
   "source": [
    "Question 5- Create a function in Python to remove the parenthesis in a list of strings. The use of the re.compile() method is mandatory.\n",
    "Sample Text: [\"example (.com)\", \"hr@fliprobo (.com)\", \"github (.com)\", \"Hello (Data Science World)\", \"Data (Scientist)\"]\n",
    "Expected Output:\n",
    "example.com\n",
    "hr@fliprobo.com\n",
    "github.com\n",
    "Hello Data Science World\n",
    "Data Scientist\n"
   ]
  },
  {
   "cell_type": "code",
   "execution_count": 122,
   "id": "55d47dc8",
   "metadata": {},
   "outputs": [],
   "source": [
    "import re\n",
    "def remove_parentheses(strings_list):\n",
    "    pattern= re.compile(r'\\([^)]*\\)')\n",
    "    result= [pattern.sub('', text) for text in strings_list]\n",
    "    \n",
    "    return result"
   ]
  },
  {
   "cell_type": "code",
   "execution_count": 131,
   "id": "0004aa78",
   "metadata": {},
   "outputs": [
    {
     "name": "stdout",
     "output_type": "stream",
     "text": [
      "['example.com', 'hr@fliprobo.com', 'github.com', 'Hello Data Science World', 'Data Scientist']\n"
     ]
    }
   ],
   "source": [
    "sample_text=[\"example.com\", \"hr@fliprobo.com\", \"github.com\", \"Hello Data Science World\", 'Data Scientist']\n",
    "\n",
    "result= remove_parentheses(sample_text)\n",
    "print(result)"
   ]
  },
  {
   "cell_type": "code",
   "execution_count": null,
   "id": "5ac3822d",
   "metadata": {},
   "outputs": [],
   "source": []
  },
  {
   "cell_type": "markdown",
   "id": "8d0478e8",
   "metadata": {},
   "source": [
    "Question 6- Write a python program to remove the parenthesis area from the text stored in the text file using Regular Expression.\n",
    "Sample Text: [\"example (.com)\", \"hr@fliprobo (.com)\", \"github (.com)\", \"Hello (Data Science World)\", \"Data (Scientist)\"]\n",
    "Expected Output: [\"example\", \"hr@fliprobo\", \"github\", \"Hello\", \"Data\"]\n",
    "Note- Store given sample text in the text file and then to remove the parenthesis area from the text.\n"
   ]
  },
  {
   "cell_type": "code",
   "execution_count": 145,
   "id": "1bb01582",
   "metadata": {},
   "outputs": [
    {
     "name": "stdout",
     "output_type": "stream",
     "text": [
      "Expected Output: [\"example \", \"hr@fliprobo \", \"github \", \"Hello \", \"Data \"]\n",
      "\n"
     ]
    }
   ],
   "source": [
    "import re\n",
    "\n",
    "def remove_parentheses(text):\n",
    "    cleaned_text = re.sub(r'\\([^)]*\\)', '', text)\n",
    "    return cleaned_text\n",
    "\n",
    "with open('sample_text.txt', 'r') as file:\n",
    "    content = file.read()\n",
    "\n",
    "output = remove_parentheses(content)\n",
    "print(\"Expected Output:\", output)"
   ]
  },
  {
   "cell_type": "code",
   "execution_count": null,
   "id": "826e2b56",
   "metadata": {},
   "outputs": [],
   "source": []
  },
  {
   "cell_type": "markdown",
   "id": "81eeb3ae",
   "metadata": {},
   "source": [
    "Question 7- Write a regular expression in Python to split a string into uppercase letters.\n",
    "Sample text: “ImportanceOfRegularExpressionsInPython”\n",
    "Expected Output: [‘Importance’, ‘Of’, ‘Regular’, ‘Expression’, ‘In’, ‘Python’]\n"
   ]
  },
  {
   "cell_type": "code",
   "execution_count": 1,
   "id": "ef663284",
   "metadata": {},
   "outputs": [
    {
     "name": "stdout",
     "output_type": "stream",
     "text": [
      "['Importance', 'Of', 'Regular', 'Expressions', 'In', 'Python']\n"
     ]
    }
   ],
   "source": [
    "import re\n",
    "sample_text=\"ImportanceOfRegularExpressionsInPython\"\n",
    "\n",
    "result=re.findall('[A-Z][^A-Z]*', sample_text)\n",
    "\n",
    "print(result)"
   ]
  },
  {
   "cell_type": "code",
   "execution_count": null,
   "id": "eb38c8f3",
   "metadata": {},
   "outputs": [],
   "source": []
  },
  {
   "cell_type": "markdown",
   "id": "075ccb64",
   "metadata": {},
   "source": [
    "Question 8- Create a function in python to insert spaces between words starting with numbers.\n",
    "Sample Text: “RegularExpression1IsAn2ImportantTopic3InPython\"\n",
    "Expected Output: RegularExpression 1IsAn 2ImportantTopic 3InPython\n"
   ]
  },
  {
   "cell_type": "code",
   "execution_count": 2,
   "id": "517b3e1e",
   "metadata": {},
   "outputs": [],
   "source": [
    "import re\n",
    "def insert_spaces(text):\n",
    "    result=re.sub(r'([0-9])([A-Za-z])', r'\\1 \\2', text)\n",
    "    \n",
    "    return result"
   ]
  },
  {
   "cell_type": "code",
   "execution_count": 3,
   "id": "ff345555",
   "metadata": {},
   "outputs": [
    {
     "name": "stdout",
     "output_type": "stream",
     "text": [
      "RegularExpression1 IsAn2 ImportantTopic3 InPython\n"
     ]
    }
   ],
   "source": [
    "sample_text=\"RegularExpression1IsAn2ImportantTopic3InPython\"\n",
    "output=insert_spaces(sample_text)\n",
    "\n",
    "print(output)"
   ]
  },
  {
   "cell_type": "code",
   "execution_count": null,
   "id": "6eced5b2",
   "metadata": {},
   "outputs": [],
   "source": []
  },
  {
   "cell_type": "markdown",
   "id": "eb4c6f5d",
   "metadata": {},
   "source": [
    "Question 9- Create a function in python to insert spaces between words starting with capital letters or with numbers.\n",
    "Sample Text: “RegularExpression1IsAn2ImportantTopic3InPython\"\n",
    "Expected Output:  RegularExpression 1 IsAn 2 ImportantTopic 3 InPython\n"
   ]
  },
  {
   "cell_type": "code",
   "execution_count": 131,
   "id": "781dedc8",
   "metadata": {},
   "outputs": [],
   "source": [
    "import re\n",
    "def insert_spaces(text):\n",
    "    result = re.findall(r'[a-z0-9]+|[A-Z][a-z0-9]*', text)\n",
    "    return ' '.join(result)"
   ]
  },
  {
   "cell_type": "code",
   "execution_count": 132,
   "id": "a22f87d0",
   "metadata": {},
   "outputs": [
    {
     "name": "stdout",
     "output_type": "stream",
     "text": [
      "Regular Expression1 Is An2 Important Topic3 In Python\n"
     ]
    }
   ],
   "source": [
    "sample_text = \"RegularExpression1IsAn2ImportantTopic3InPython\"\n",
    "output = insert_spaces(sample_text)\n",
    "\n",
    "print(output)"
   ]
  },
  {
   "cell_type": "code",
   "execution_count": null,
   "id": "3d338475",
   "metadata": {},
   "outputs": [],
   "source": []
  },
  {
   "cell_type": "markdown",
   "id": "37f837ac",
   "metadata": {},
   "source": [
    "Question 10- Use the github link below to read the data and create a dataframe. After creating the dataframe extract the first 6 letters of each country and store in the dataframe under a new column called first_five_letters.\n",
    "Github Link-  https://raw.githubusercontent.com/dsrscientist/DSData/master/happiness_score_dataset.csv"
   ]
  },
  {
   "cell_type": "code",
   "execution_count": 29,
   "id": "0acce893",
   "metadata": {},
   "outputs": [],
   "source": [
    "import pandas as pd\n",
    "\n",
    "url=\"https://raw.githubusercontent.com/dsrscientist/DSData/master/happiness_score_dataset.csv\"\n",
    "df = pd.read_csv(url)\n",
    "df['first_five_letters'] = df['Country'].str[:6]"
   ]
  },
  {
   "cell_type": "code",
   "execution_count": 30,
   "id": "b093be0d",
   "metadata": {},
   "outputs": [
    {
     "name": "stdout",
     "output_type": "stream",
     "text": [
      "       Country          Region  Happiness Rank  Happiness Score  \\\n",
      "0  Switzerland  Western Europe               1            7.587   \n",
      "1      Iceland  Western Europe               2            7.561   \n",
      "2      Denmark  Western Europe               3            7.527   \n",
      "3       Norway  Western Europe               4            7.522   \n",
      "4       Canada   North America               5            7.427   \n",
      "\n",
      "   Standard Error  Economy (GDP per Capita)   Family  \\\n",
      "0         0.03411                   1.39651  1.34951   \n",
      "1         0.04884                   1.30232  1.40223   \n",
      "2         0.03328                   1.32548  1.36058   \n",
      "3         0.03880                   1.45900  1.33095   \n",
      "4         0.03553                   1.32629  1.32261   \n",
      "\n",
      "   Health (Life Expectancy)  Freedom  Trust (Government Corruption)  \\\n",
      "0                   0.94143  0.66557                        0.41978   \n",
      "1                   0.94784  0.62877                        0.14145   \n",
      "2                   0.87464  0.64938                        0.48357   \n",
      "3                   0.88521  0.66973                        0.36503   \n",
      "4                   0.90563  0.63297                        0.32957   \n",
      "\n",
      "   Generosity  Dystopia Residual first_five_letters  \n",
      "0     0.29678            2.51738             Switze  \n",
      "1     0.43630            2.70201             Icelan  \n",
      "2     0.34139            2.49204             Denmar  \n",
      "3     0.34699            2.46531             Norway  \n",
      "4     0.45811            2.45176             Canada  \n"
     ]
    }
   ],
   "source": [
    "print(df.head())"
   ]
  },
  {
   "cell_type": "code",
   "execution_count": null,
   "id": "8ba03473",
   "metadata": {},
   "outputs": [],
   "source": []
  },
  {
   "cell_type": "markdown",
   "id": "301339f4",
   "metadata": {},
   "source": [
    "Question 11- Write a Python program to match a string that contains only upper and lowercase letters, numbers, and underscores.\n"
   ]
  },
  {
   "cell_type": "code",
   "execution_count": 41,
   "id": "9f5ca222",
   "metadata": {},
   "outputs": [],
   "source": [
    "import re\n",
    "\n",
    "def is_valid_string(input_string):\n",
    "    \n",
    "    pattern = r'^[a-zA-Z0-9_]+$'\n",
    "    \n",
    "    match = re.match(pattern, input_string)\n",
    "    \n",
    "    return match is not None"
   ]
  },
  {
   "cell_type": "code",
   "execution_count": 42,
   "id": "248769a4",
   "metadata": {},
   "outputs": [
    {
     "name": "stdout",
     "output_type": "stream",
     "text": [
      "The string \"Valid_string_123\" is valid.\n"
     ]
    }
   ],
   "source": [
    "test_string =\"Valid_string_123\"\n",
    "result= is_valid_string(test_string)\n",
    "\n",
    "if result:\n",
    "    print(f'The string \"{test_string}\" is valid.')\n",
    "else:\n",
    "    print(f'The string \"{test_string}\" is not valid.')"
   ]
  },
  {
   "cell_type": "code",
   "execution_count": null,
   "id": "053bcb27",
   "metadata": {},
   "outputs": [],
   "source": []
  },
  {
   "cell_type": "markdown",
   "id": "2cbffe85",
   "metadata": {},
   "source": [
    "Question 12- Write a Python program where a string will start with a specific number. \n"
   ]
  },
  {
   "cell_type": "code",
   "execution_count": 50,
   "id": "519273fe",
   "metadata": {},
   "outputs": [
    {
     "name": "stdout",
     "output_type": "stream",
     "text": [
      "The string '786786' starts with the number 78.\n"
     ]
    }
   ],
   "source": [
    "input_string = \"786786\"\n",
    "target_number = \"78\"\n",
    "\n",
    "if input_string.startswith(target_number):\n",
    "    print(f\"The string '{input_string}' starts with the number {target_number}.\")\n",
    "else:\n",
    "    print(f\"The string '{input_string}' does not start with the number {target_number}.\")\n",
    "    "
   ]
  },
  {
   "cell_type": "code",
   "execution_count": null,
   "id": "69df2584",
   "metadata": {},
   "outputs": [],
   "source": []
  },
  {
   "cell_type": "markdown",
   "id": "e295a6e4",
   "metadata": {},
   "source": [
    "Question 13- Write a Python program to remove leading zeros from an IP address"
   ]
  },
  {
   "cell_type": "code",
   "execution_count": 65,
   "id": "b6bc2277",
   "metadata": {},
   "outputs": [],
   "source": [
    "def remove_leading_zeros(ip_address):\n",
    "    octets = ip_address.split('.')\n",
    "    \n",
    "    cleaned_octets =[str(int(octet)) for octet in octets]\n",
    "    \n",
    "    updated_ip_address = '.'.join(cleaned_octets)\n",
    "    \n",
    "    return updated_ip_address"
   ]
  },
  {
   "cell_type": "code",
   "execution_count": 66,
   "id": "63165870",
   "metadata": {},
   "outputs": [
    {
     "name": "stdout",
     "output_type": "stream",
     "text": [
      "Orignal IP Address: 154.171.001.001\n",
      "Update IP Adress: 154.171.1.1\n"
     ]
    }
   ],
   "source": [
    "ip_address_with_zeros = \"154.171.001.001\"\n",
    "updated_ip_address = remove_leading_zeros(ip_address_with_zeros)\n",
    "\n",
    "print(\"Orignal IP Address:\", ip_address_with_zeros)\n",
    "print(\"Update IP Adress:\", updated_ip_address)"
   ]
  },
  {
   "cell_type": "code",
   "execution_count": null,
   "id": "c18a6a47",
   "metadata": {},
   "outputs": [],
   "source": []
  },
  {
   "cell_type": "markdown",
   "id": "1e07850c",
   "metadata": {},
   "source": [
    "Question 14- Write a regular expression in python to match a date string in the form of Month name followed by day number and year stored in a text file.\n",
    "Sample text :  ' On August 15th 1947 that India was declared independent from British colonialism, and the reins of control were handed over to the leaders of the Country’.\n",
    "Expected Output- August 15th 1947\n",
    "Note- Store given sample text in the text file and then extract the date string asked format.\n"
   ]
  },
  {
   "cell_type": "code",
   "execution_count": 70,
   "id": "a662e644",
   "metadata": {},
   "outputs": [
    {
     "name": "stdout",
     "output_type": "stream",
     "text": [
      "Extracted Date: August 15th 1947\n"
     ]
    }
   ],
   "source": [
    "import re\n",
    "\n",
    "def extract_date_from_text(file_path):\n",
    "    with open(file_path, 'r', encoding='utf-8') as file:\n",
    "        text = file.read()\n",
    "    date_pattern = r'\\b(?:January|February|March|April|May|June|July|August|September|October|November|December)\\s+\\d{1,2}(?:st|nd|rd|th)?\\s+\\d{4}\\b'\n",
    "    match = re.search(date_pattern, text)\n",
    "\n",
    "    if match:\n",
    "        return match.group()\n",
    "    return None\n",
    "\n",
    "file_path = 'sample_text.txt'\n",
    "result = extract_date_from_text(file_path)\n",
    "print(f'Extracted Date: {result}')"
   ]
  },
  {
   "cell_type": "code",
   "execution_count": null,
   "id": "d49d99cc",
   "metadata": {},
   "outputs": [],
   "source": []
  },
  {
   "cell_type": "markdown",
   "id": "bd3619a6",
   "metadata": {},
   "source": [
    "Question 15- Write a Python program to search some literals strings in a string. \n",
    "Sample text : 'The quick brown fox jumps over the lazy dog.'\n",
    "Searched words : 'fox', 'dog', 'horse'\n"
   ]
  },
  {
   "cell_type": "code",
   "execution_count": 74,
   "id": "15219ed9",
   "metadata": {},
   "outputs": [],
   "source": [
    "def search_literals(text, search_words):\n",
    "    found_words = [word for word in search_words if word in text]\n",
    "    return found_words"
   ]
  },
  {
   "cell_type": "code",
   "execution_count": 75,
   "id": "85696e46",
   "metadata": {},
   "outputs": [],
   "source": [
    "sample_text = 'The quick brown fox jumps over the lazy dog.'\n",
    "\n",
    "searched_words=['fox', 'dog']\n",
    "result = search_literals(sample_text, searched_words)\n"
   ]
  },
  {
   "cell_type": "code",
   "execution_count": 76,
   "id": "5d75198b",
   "metadata": {},
   "outputs": [
    {
     "name": "stdout",
     "output_type": "stream",
     "text": [
      "Sample Text: The quick brown fox jumps over the lazy dog.\n",
      "found Words: ['fox', 'dog']\n"
     ]
    }
   ],
   "source": [
    "print(\"Sample Text:\", sample_text)\n",
    "\n",
    "print(\"found Words:\", result)"
   ]
  },
  {
   "cell_type": "code",
   "execution_count": null,
   "id": "165bc2dc",
   "metadata": {},
   "outputs": [],
   "source": []
  },
  {
   "cell_type": "markdown",
   "id": "f8779613",
   "metadata": {},
   "source": [
    "Question 16- Write a Python program to search a literals string in a string and also find the location within the original string where the pattern occurs\n",
    "Sample text : 'The quick brown fox jumps over the lazy dog.'\n",
    "Searched words : 'fox'\n"
   ]
  },
  {
   "cell_type": "code",
   "execution_count": 94,
   "id": "f888759b",
   "metadata": {},
   "outputs": [],
   "source": [
    "def search_literals_with_location(text, search_words):\n",
    "    found_words_with_location = []\n",
    "    \n",
    "    for word in search_words:\n",
    "        index = text.find(word)\n",
    "        if index != -1:\n",
    "            found_words_with_location.append((word, index))\n",
    "            \n",
    "            return found_words_with_location"
   ]
  },
  {
   "cell_type": "code",
   "execution_count": 96,
   "id": "4dc68b81",
   "metadata": {},
   "outputs": [
    {
     "name": "stdout",
     "output_type": "stream",
     "text": [
      "Sample Text: the quick broen fox jumps over the lazy dog.\n",
      "found Words with Location: [('fox', 16)]\n"
     ]
    }
   ],
   "source": [
    "sample_text='the quick broen fox jumps over the lazy dog.'\n",
    "\n",
    "searched_words = ['fox']\n",
    "\n",
    "result = search_literals_with_location(sample_text, searched_words)\n",
    "print(\"Sample Text:\", sample_text)\n",
    "\n",
    "print(\"found Words with Location:\", result)"
   ]
  },
  {
   "cell_type": "code",
   "execution_count": null,
   "id": "0aa1d22c",
   "metadata": {},
   "outputs": [],
   "source": []
  },
  {
   "cell_type": "markdown",
   "id": "7e3ea86e",
   "metadata": {},
   "source": [
    "Question 17- Write a Python program to find the substrings within a string.\n",
    "Sample text : 'Python exercises, PHP exercises, C# exercises'\n",
    "Pattern : 'exercises'.\n"
   ]
  },
  {
   "cell_type": "code",
   "execution_count": 126,
   "id": "01bdda5a",
   "metadata": {},
   "outputs": [],
   "source": [
    "def find_substrings(text, pattern):\n",
    "    start_index = 0\n",
    "    found_positions = []\n",
    "    \n",
    "    while True:\n",
    "        index=text.find(pattern, start_index)\n",
    "        if index == -1:\n",
    "            break\n",
    "        found_positions.append((index, index + len(pattern)))\n",
    "        start_index = index+1\n",
    "            \n",
    "    return found_positions"
   ]
  },
  {
   "cell_type": "code",
   "execution_count": 127,
   "id": "d8313b6a",
   "metadata": {},
   "outputs": [],
   "source": [
    "sample_text = 'Python exercises, PHP exercises, C# exercises'\n",
    "pattern = 'exercises'\n",
    "result= find_substrings(sample_text, pattern)\n"
   ]
  },
  {
   "cell_type": "code",
   "execution_count": 128,
   "id": "018464e3",
   "metadata": {},
   "outputs": [
    {
     "name": "stdout",
     "output_type": "stream",
     "text": [
      "Sample Text: Python exercises, PHP exercises, C# exercises\n",
      "Substring to Search: exercises\n",
      "Found Substring:\n",
      "Substring 'exercises' found at position 7 to 16\n",
      "Substring 'exercises' found at position 22 to 31\n",
      "Substring 'exercises' found at position 36 to 45\n"
     ]
    }
   ],
   "source": [
    "\n",
    "print(\"Sample Text:\", sample_text)\n",
    "print(\"Substring to Search:\", pattern)\n",
    "print(\"Found Substring:\")\n",
    "\n",
    "for start, end in result:\n",
    "    print(f\"Substring '{pattern}' found at position {start} to {end}\")"
   ]
  },
  {
   "cell_type": "code",
   "execution_count": null,
   "id": "7be0c782",
   "metadata": {},
   "outputs": [],
   "source": []
  },
  {
   "cell_type": "markdown",
   "id": "250ac5c2",
   "metadata": {},
   "source": [
    "Question 18- Write a Python program to find the occurrence and position of the substrings within a string.\n"
   ]
  },
  {
   "cell_type": "code",
   "execution_count": 10,
   "id": "eba2c134",
   "metadata": {},
   "outputs": [],
   "source": [
    "def find_occurrences_and_positions(text, substring):\n",
    "    occurrences = []\n",
    "    start_index = 0\n",
    "    while start_index < len(text):\n",
    "        index = text.find(substring, start_index)\n",
    "        if index == -1:\n",
    "            break\n",
    "        occurrences.append((index, index + len(substring)))\n",
    "        start_index = index + 1\n",
    "        \n",
    "        return occurrences"
   ]
  },
  {
   "cell_type": "code",
   "execution_count": 11,
   "id": "86fa8040",
   "metadata": {},
   "outputs": [
    {
     "name": "stdout",
     "output_type": "stream",
     "text": [
      "The substring \"Python\" occurs at position: [(0, 6)]\n"
     ]
    }
   ],
   "source": [
    "sample_text ='Python is an easy-to-learn language. Python is widely used for web development.'\n",
    "searched_substring= 'Python'\n",
    "result= find_occurrences_and_positions(sample_text, searched_substring)\n",
    "\n",
    "if result:\n",
    "    print(f'The substring \"{searched_substring}\" occurs at position: {result}')\n",
    "else:\n",
    "    print(f'The substring \"{searched_substring}\" not found in the text.')\n",
    "        "
   ]
  },
  {
   "cell_type": "code",
   "execution_count": null,
   "id": "34e17624",
   "metadata": {},
   "outputs": [],
   "source": []
  },
  {
   "cell_type": "markdown",
   "id": "012b7c36",
   "metadata": {},
   "source": [
    "Question 19- Write a Python program to convert a date of yyyy-mm-dd format to dd-mm-yyyy format.\n"
   ]
  },
  {
   "cell_type": "code",
   "execution_count": 55,
   "id": "fc296b1d",
   "metadata": {},
   "outputs": [],
   "source": [
    "from datetime import datetime\n",
    "\n",
    "def convert_date_format(input_date):\n",
    "    try:\n",
    "        return datetime.strptime(input_date, '%Y-%m-%d').strftime('%d-%m-%Y')\n",
    "        \n",
    "    except ValueError:\n",
    "        \n",
    "        return \"Invalid date format. Please enter a date in yyyy-mm-dd format.\"\n",
    "    \n",
    "  "
   ]
  },
  {
   "cell_type": "code",
   "execution_count": 56,
   "id": "cda6a881",
   "metadata": {},
   "outputs": [
    {
     "name": "stdout",
     "output_type": "stream",
     "text": [
      "Enter a date in yyyy-mm-dd format: 2025-02-05\n",
      "Converted date: 05-02-2025\n"
     ]
    }
   ],
   "source": [
    "if __name__ == \"__main__\":\n",
    "    input_date = input(\"Enter a date in yyyy-mm-dd format: \")\n",
    "    print(f\"Converted date: {convert_date_format(input_date)}\")"
   ]
  },
  {
   "cell_type": "code",
   "execution_count": null,
   "id": "c16a6da1",
   "metadata": {},
   "outputs": [],
   "source": []
  },
  {
   "cell_type": "markdown",
   "id": "f2f39ed6",
   "metadata": {},
   "source": [
    "Question 20- Create a function in python to find all decimal numbers with a precision of 1 or 2 in a string. The use of the re.compile() method is mandatory.\n",
    "Sample Text: \"01.12 0132.123 2.31875 145.8 3.01 27.25 0.25\"\n",
    "Expected Output: ['01.12', '145.8', '3.01', '27.25', '0.25']\n"
   ]
  },
  {
   "cell_type": "code",
   "execution_count": 57,
   "id": "28853c46",
   "metadata": {},
   "outputs": [],
   "source": [
    "import re\n",
    "def find_decimal_numbers(text):\n",
    "    pattern = re.compile(r'\\b\\d+\\.\\d{1,2}\\b')\n",
    "    return pattern.findall(text)"
   ]
  },
  {
   "cell_type": "code",
   "execution_count": 59,
   "id": "49e76b6b",
   "metadata": {},
   "outputs": [
    {
     "name": "stdout",
     "output_type": "stream",
     "text": [
      "Sample Text: 01.12 0132.123 2.31875 145.8 3.01 27.25 0.25\n",
      "expected Output: ['01.12', '145.8', '3.01', '27.25', '0.25']\n"
     ]
    }
   ],
   "source": [
    "sample_text = \"01.12 0132.123 2.31875 145.8 3.01 27.25 0.25\"\n",
    "result = find_decimal_numbers(sample_text)\n",
    "\n",
    "print(\"Sample Text:\", sample_text)\n",
    "print(\"expected Output:\", result)"
   ]
  },
  {
   "cell_type": "code",
   "execution_count": null,
   "id": "4fbbc894",
   "metadata": {},
   "outputs": [],
   "source": []
  },
  {
   "cell_type": "markdown",
   "id": "60f46f9b",
   "metadata": {},
   "source": [
    "Question 21- Write a Python program to separate and print the numbers and their position of a given string.\n",
    "\n"
   ]
  },
  {
   "cell_type": "code",
   "execution_count": 14,
   "id": "83297b34",
   "metadata": {},
   "outputs": [
    {
     "name": "stdout",
     "output_type": "stream",
     "text": [
      "Enter a string: Hello 786 Python 123\n",
      "Numbers and their positions:\n",
      "786 at position 6\n",
      "123 at position 17\n",
      "123 at position 17\n"
     ]
    }
   ],
   "source": [
    "import re\n",
    "input_string = input(\"Enter a string: \")\n",
    "result = [(match.group(), match.start()) for match in re.finditer(r'\\b\\d+\\b', input_string)]\n",
    "\n",
    "if result:\n",
    "    print(\"Numbers and their positions:\")\n",
    "    for number, position in result:\n",
    "        print(f\"{number} at position {position}\")\n",
    "    else:\n",
    "            print(f\"{number} at position {position}\")"
   ]
  },
  {
   "cell_type": "code",
   "execution_count": null,
   "id": "f84b5121",
   "metadata": {},
   "outputs": [],
   "source": []
  },
  {
   "cell_type": "markdown",
   "id": "73c9fea2",
   "metadata": {},
   "source": [
    "Question 22- Write a regular expression in python program to extract maximum/largest numeric value from a string.\n",
    "Sample Text:  'My marks in each semester are: 947, 896, 926, 524, 734, 950, 642'\n",
    "Expected Output: 950"
   ]
  },
  {
   "cell_type": "code",
   "execution_count": 15,
   "id": "ee60a116",
   "metadata": {},
   "outputs": [],
   "source": [
    "import re\n",
    "def extract_maximum_numeric_value(text):\n",
    "    numbers = [int(match.group()) for match in re.finditer(r'\\b\\d+\\b', text)]\n",
    "    return max(numbers) if numbers else None"
   ]
  },
  {
   "cell_type": "code",
   "execution_count": 18,
   "id": "b23f103f",
   "metadata": {},
   "outputs": [
    {
     "name": "stdout",
     "output_type": "stream",
     "text": [
      "Maximum numeric value: 950\n"
     ]
    }
   ],
   "source": [
    "sample_text = 'My marks in each semester are: 947, 896, 926, 524, 734, 950, 642'\n",
    "result=extract_maximum_numeric_value(sample_text)\n",
    "\n",
    "if result is not None:\n",
    "    print(f\"Maximum numeric value: {result}\")\n",
    "else:\n",
    "        print(\"No numeric values found in the given string.\")"
   ]
  },
  {
   "cell_type": "code",
   "execution_count": null,
   "id": "4ac3b34e",
   "metadata": {},
   "outputs": [],
   "source": []
  },
  {
   "cell_type": "markdown",
   "id": "cc3576b8",
   "metadata": {},
   "source": [
    "Question 23- Create a function in python to insert spaces between words starting with capital letters.\n",
    "Sample Text: “RegularExpressionIsAnImportantTopicInPython\"\n",
    "Expected Output: Regular Expression Is An Important Topic In Python\n"
   ]
  },
  {
   "cell_type": "code",
   "execution_count": 19,
   "id": "7f74ecd0",
   "metadata": {},
   "outputs": [],
   "source": [
    "import re\n",
    "def insert_spaces_between_capital_words(input_string):\n",
    "    result = re.sub(r'([a-z])([A-Z])', r'\\1 \\2', input_string)\n",
    "    return result"
   ]
  },
  {
   "cell_type": "code",
   "execution_count": 20,
   "id": "d27748ae",
   "metadata": {},
   "outputs": [],
   "source": [
    "sample_text = \"RegularExpressionIsAnImportantTopicInPython\"\n",
    "output_text = insert_spaces_between_capital_words(sample_text)"
   ]
  },
  {
   "cell_type": "code",
   "execution_count": 21,
   "id": "fc1a4b9b",
   "metadata": {},
   "outputs": [
    {
     "name": "stdout",
     "output_type": "stream",
     "text": [
      "Original string: RegularExpressionIsAnImportantTopicInPython\n",
      "string with spaces between capital words: Regular Expression Is An Important Topic In Python\n"
     ]
    }
   ],
   "source": [
    "print(\"Original string:\", sample_text)\n",
    "print(\"string with spaces between capital words:\", output_text)"
   ]
  },
  {
   "cell_type": "code",
   "execution_count": null,
   "id": "d891855e",
   "metadata": {},
   "outputs": [],
   "source": []
  },
  {
   "cell_type": "markdown",
   "id": "006db48c",
   "metadata": {},
   "source": [
    "Question 24- Python regex to find sequences of one upper case letter followed by lower case letters\n",
    "\n"
   ]
  },
  {
   "cell_type": "code",
   "execution_count": 22,
   "id": "9b07ca82",
   "metadata": {},
   "outputs": [],
   "source": [
    "import re\n",
    "\n",
    "pattern = re.compile(r'[A-Z][a-z]+')\n",
    "text = \"This is a Sample Text With Some CamelCase Words like Python, JavaScript, and HTML.\"\n",
    "\n",
    "result = pattern.findall(text)"
   ]
  },
  {
   "cell_type": "code",
   "execution_count": 23,
   "id": "ca01392f",
   "metadata": {},
   "outputs": [
    {
     "name": "stdout",
     "output_type": "stream",
     "text": [
      "Sequences of one upper case letter followed by lower case letters:\n",
      "['This', 'Sample', 'Text', 'With', 'Some', 'Camel', 'Case', 'Words', 'Python', 'Java', 'Script']\n"
     ]
    }
   ],
   "source": [
    "print(\"Sequences of one upper case letter followed by lower case letters:\")\n",
    "print(result)"
   ]
  },
  {
   "cell_type": "code",
   "execution_count": null,
   "id": "bbac153f",
   "metadata": {},
   "outputs": [],
   "source": []
  },
  {
   "cell_type": "markdown",
   "id": "7393d94b",
   "metadata": {},
   "source": [
    "Question 25- Write a Python program to remove continuous duplicate words from Sentence using Regular Expression.\n",
    "Sample Text: \"Hello hello world world\"\n",
    "Expected Output: Hello hello world\n"
   ]
  },
  {
   "cell_type": "code",
   "execution_count": 39,
   "id": "6ab67b21",
   "metadata": {},
   "outputs": [],
   "source": [
    "import re\n",
    "sample_text =\"Hello  hello world world  \"\n",
    "output_text = (lambda s: re.sub(r'\\b(\\w+)( \\1\\b)+', r'\\1', s, flags=re.IGNORECASE))(sample_text)"
   ]
  },
  {
   "cell_type": "code",
   "execution_count": 40,
   "id": "d1cbde95",
   "metadata": {},
   "outputs": [
    {
     "name": "stdout",
     "output_type": "stream",
     "text": [
      "Original sentence: Hello  hello world world  \n",
      "Sentence with continuous duplicate words removed: Hello  hello world  \n"
     ]
    }
   ],
   "source": [
    "print(\"Original sentence:\", sample_text)\n",
    "print(\"Sentence with continuous duplicate words removed:\", output_text)"
   ]
  },
  {
   "cell_type": "code",
   "execution_count": null,
   "id": "429d635c",
   "metadata": {},
   "outputs": [],
   "source": []
  },
  {
   "cell_type": "markdown",
   "id": "4b663227",
   "metadata": {},
   "source": [
    "Question 26-  Write a python program using RegEx to accept string ending with alphanumeric character.\n"
   ]
  },
  {
   "cell_type": "code",
   "execution_count": 41,
   "id": "7f2301a3",
   "metadata": {},
   "outputs": [],
   "source": [
    "import re\n",
    "\n",
    "def ends_with_alphanumeric(input_string):\n",
    "    pattern = re.compile(r'\\w$')\n",
    "    return bool(pattern.search(input_string))"
   ]
  },
  {
   "cell_type": "code",
   "execution_count": 46,
   "id": "3a7ae356",
   "metadata": {},
   "outputs": [
    {
     "name": "stdout",
     "output_type": "stream",
     "text": [
      "Enter a string: Kashif786\n",
      "The string end with an alphanumeric character.\n"
     ]
    }
   ],
   "source": [
    "user_input = input(\"Enter a string: \")\n",
    "\n",
    "if ends_with_alphanumeric(user_input):\n",
    "    print(\"The string end with an alphanumeric character.\")\n",
    "else:\n",
    "        print(\"The string does not end with an alphanumeric character.\")"
   ]
  },
  {
   "cell_type": "code",
   "execution_count": null,
   "id": "bfa4a8c1",
   "metadata": {},
   "outputs": [],
   "source": []
  },
  {
   "cell_type": "markdown",
   "id": "76c86794",
   "metadata": {},
   "source": [
    "Question 27-Write a python program using RegEx to extract the hashtags.\n",
    "Sample Text:  \"\"\"RT @kapil_kausik: #Doltiwal I mean #xyzabc is \"hurt\" by #Demonetization as the same has rendered USELESS <ed><U+00A0><U+00BD><ed><U+00B1><U+0089> \"acquired funds\" No wo\"\"\"\n",
    "Expected Output: ['#Doltiwal', '#xyzabc', '#Demonetization']\n",
    "\n"
   ]
  },
  {
   "cell_type": "code",
   "execution_count": 47,
   "id": "b418e9d8",
   "metadata": {},
   "outputs": [],
   "source": [
    "import re\n",
    "\n",
    "def extract_hashtags(input_text):\n",
    "    pattern = re.compile(r'#\\w+')\n",
    "    return pattern.findall(input_text)"
   ]
  },
  {
   "cell_type": "code",
   "execution_count": 48,
   "id": "2935a837",
   "metadata": {},
   "outputs": [
    {
     "name": "stdout",
     "output_type": "stream",
     "text": [
      "Extracted hashtags: ['#Doltiwal', '#xyzabc', '#Demonetization']\n"
     ]
    }
   ],
   "source": [
    "sample_text = \"\"\"RT @kapil_kausik: #Doltiwal I mean #xyzabc is \"hurt\" by #Demonetization as the same has rendered USELESS <ed><U+00A0><U+00BD><ed><U+00B1><U+0089> \"acquired funds\" No wo\"\"\"\n",
    "\n",
    "hashtags = extract_hashtags(sample_text)\n",
    "\n",
    "print(\"Extracted hashtags:\", hashtags)"
   ]
  },
  {
   "cell_type": "code",
   "execution_count": null,
   "id": "b9ba5714",
   "metadata": {},
   "outputs": [],
   "source": []
  },
  {
   "cell_type": "markdown",
   "id": "60dc13be",
   "metadata": {},
   "source": [
    "Question 28- Write a python program using RegEx to remove <U+..> like symbols\n",
    "Check the below sample text, there are strange symbols something of the sort <U+..> all over the place. You need to come up with a general Regex expression that will cover all such symbols.\n",
    "Sample Text: \"@Jags123456 Bharat band on 28??<ed><U+00A0><U+00BD><ed><U+00B8><U+0082>Those who  are protesting #demonetization  are all different party leaders\"\n",
    "Expected Output: @Jags123456 Bharat band on 28??<ed><ed>Those who  are protesting #demonetization  are all different party leaders"
   ]
  },
  {
   "cell_type": "code",
   "execution_count": 49,
   "id": "08761c93",
   "metadata": {},
   "outputs": [],
   "source": [
    "import re\n",
    "\n",
    "def remove_unicode_symbols(input_text):\n",
    "    pattern = re.compile(r'<U\\+\\w{4}>')\n",
    "    return pattern.sub('', input_text)"
   ]
  },
  {
   "cell_type": "code",
   "execution_count": 51,
   "id": "2a21832f",
   "metadata": {},
   "outputs": [
    {
     "name": "stdout",
     "output_type": "stream",
     "text": [
      "Original text: @Jags123456 Bharat band on 28??<ed><U+00A0><U+00BD><ed><U+00B8><U+0082>Those who  are protesting #demonetization  are all different party leaders\n",
      "Text with Unicode symbols removed: @Jags123456 Bharat band on 28??<ed><ed>Those who  are protesting #demonetization  are all different party leaders\n"
     ]
    }
   ],
   "source": [
    "sample_text = \"@Jags123456 Bharat band on 28??<ed><U+00A0><U+00BD><ed><U+00B8><U+0082>Those who  are protesting #demonetization  are all different party leaders\"\n",
    "\n",
    "cleaned_text = remove_unicode_symbols(sample_text)\n",
    "\n",
    "print(\"Original text:\", sample_text)\n",
    "print(\"Text with Unicode symbols removed:\", cleaned_text)"
   ]
  },
  {
   "cell_type": "code",
   "execution_count": null,
   "id": "25835d16",
   "metadata": {},
   "outputs": [],
   "source": []
  },
  {
   "cell_type": "markdown",
   "id": "82f0bba1",
   "metadata": {},
   "source": [
    "Question 29- Write a python program to extract dates from the text stored in the text file.\n",
    "Sample Text: Ron was born on 12-09-1992 and he was admitted to school 15-12-1999.\n",
    "Note- Store this sample text in the file and then extract dates.\n"
   ]
  },
  {
   "cell_type": "code",
   "execution_count": 56,
   "id": "15862740",
   "metadata": {},
   "outputs": [],
   "source": [
    "import re\n",
    "\n",
    "def extract_dates_from_file(file_path):\n",
    "    with open(file_path, 'r') as file:\n",
    "        text= file.read()\n",
    "        pattern = re.compile(r'\\b\\d{2}-\\d{2}-\\d{4}\\b')\n",
    "        dates = pattern.findall(text)\n",
    "        return dates"
   ]
  },
  {
   "cell_type": "code",
   "execution_count": 64,
   "id": "dce6fb7b",
   "metadata": {},
   "outputs": [
    {
     "name": "stdout",
     "output_type": "stream",
     "text": [
      "Extracted dates:\n",
      "12-09-1992\n",
      "15-12-1999\n"
     ]
    }
   ],
   "source": [
    "file_path = \"sample_text_file.txt\"\n",
    "extracted_dates = extract_dates_from_file(file_path)\n",
    "\n",
    "if extracted_dates:\n",
    "    print(\"Extracted dates:\")\n",
    "    for date in extracted_dates:\n",
    "        print(date)\n",
    "else:\n",
    "    print(\"No dates found in the text file.\")"
   ]
  },
  {
   "cell_type": "code",
   "execution_count": null,
   "id": "1b523691",
   "metadata": {},
   "outputs": [],
   "source": []
  },
  {
   "cell_type": "markdown",
   "id": "daa7e7fe",
   "metadata": {},
   "source": [
    "Question 30- Create a function in python to remove all words from a string of length between 2 and 4.\n",
    "The use of the re.compile() method is mandatory.\n",
    "Sample Text: \"The following example creates an ArrayList with a capacity of 50 elements. 4 elements are then added to the ArrayList and the ArrayList is trimmed accordingly.\"\n",
    "Expected Output:  following example creates ArrayList a capacity elements. 4 elements added ArrayList ArrayList trimmed accordingly.\n"
   ]
  },
  {
   "cell_type": "code",
   "execution_count": 65,
   "id": "48e08d5e",
   "metadata": {},
   "outputs": [],
   "source": [
    "import re \n",
    "\n",
    "def remove_words_between_length(text):\n",
    "    pattern = re.compile(r'\\b\\w{1,2}\\b\\w{5,}\\b')\n",
    "    result = pattern.sub('', text)\n",
    "    return result"
   ]
  },
  {
   "cell_type": "code",
   "execution_count": 78,
   "id": "af1a05a0",
   "metadata": {},
   "outputs": [
    {
     "name": "stdout",
     "output_type": "stream",
     "text": [
      "following example creates  ArrayList  a capacity  elements 4 elements added ArrayList  ArrayList  trimmed accordingly.\n"
     ]
    }
   ],
   "source": [
    "sample_text = \"following example creates  ArrayList  a capacity  elements 4 elements added ArrayList  ArrayList  trimmed accordingly.\"\n",
    "\n",
    "modified_text = remove_words_between_length(sample_text)\n",
    "\n",
    "print(sample_text)\n"
   ]
  },
  {
   "cell_type": "code",
   "execution_count": null,
   "id": "e296a3f9",
   "metadata": {},
   "outputs": [],
   "source": []
  }
 ],
 "metadata": {
  "kernelspec": {
   "display_name": "Python 3 (ipykernel)",
   "language": "python",
   "name": "python3"
  },
  "language_info": {
   "codemirror_mode": {
    "name": "ipython",
    "version": 3
   },
   "file_extension": ".py",
   "mimetype": "text/x-python",
   "name": "python",
   "nbconvert_exporter": "python",
   "pygments_lexer": "ipython3",
   "version": "3.11.3"
  }
 },
 "nbformat": 4,
 "nbformat_minor": 5
}
